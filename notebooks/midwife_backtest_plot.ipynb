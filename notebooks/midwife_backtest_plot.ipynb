# midwife_backtest_plot.ipynb
# This is Jupyter Notebook-style content. Save this as a `.ipynb` file using Jupyter Lab, Jupyter Notebook, or VSCode.

# Cell 1: Imports
import pandas as pd
import plotly.graph_objects as go
from plotly.subplots import make_subplots

# Cell 2: Load results and raw price data
results = pd.read_csv("midwife_backtest_results.csv", parse_dates=["date"])
results.set_index("date", inplace=True)

# Download raw price data for plotting
import yfinance as yf
price_data = yf.download("AAPL", period="6mo", interval="1d")

# Cell 3: Create Plotly figure with subplots
fig = make_subplots(rows=2, cols=1, shared_xaxes=True, 
                    vertical_spacing=0.05, 
                    row_heights=[0.75, 0.25],
                    specs=[[{"type": "scatter"}], [{"type": "bar"}]])

# Cell 4: Plot closing price
fig.add_trace(
    go.Scatter(x=price_data.index, y=price_data['Close'], 
               mode="lines", name="AAPL Price", line=dict(color="lightblue")),
    row=1, col=1
)

# Cell 5: Add markers for pregnancy scores
score_colors = {1: "yellow", 2: "orange", 3: "red"}

for score in [1, 2, 3]:
    score_data = results[results['score'] == score]
    fig.add_trace(
        go.Scatter(
            x=score_data.index,
            y=score_data["entry_price"],
            mode="markers",
            name=f"{score}/3 Signal",
            marker=dict(size=10, color=score_colors[score], symbol="diamond")
        ),
        row=1, col=1
    )

# Cell 6: Plot forward return bar chart
fig.add_trace(
    go.Bar(x=results.index, y=results["return_3d_pct"], name="3-Day Return %", marker_color="green"),
    row=2, col=1
)

# Cell 7: Update layout
fig.update_layout(
    title="Golden Midwife Backtest on AAPL 📈",
    xaxis_title="Date",
    yaxis_title="Price (USD)",
    height=700,
    template="plotly_white",
    legend=dict(orientation="h", yanchor="bottom", y=1.02, xanchor="right", x=1)
)

fig.update_yaxes(title_text="AAPL Price", row=1, col=1)
fig.update_yaxes(title_text="3-Day Return %", row=2, col=1)

# Cell 8: Show the plot
fig.show()
