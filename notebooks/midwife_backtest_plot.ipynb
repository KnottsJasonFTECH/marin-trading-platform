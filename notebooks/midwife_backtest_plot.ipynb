{
 "cells": [
  {
   "cell_type": "code",
   "execution_count": null,
   "id": "11ba8a57",
   "metadata": {},
   "outputs": [],
   "source": [
    "import pandas as pd\n",
    "import plotly.graph_objects as go\n",
    "from plotly.subplots import make_subplots\n"
   ]
  },
  {
   "cell_type": "code",
   "execution_count": null,
   "id": "2f876061",
   "metadata": {},
   "outputs": [],
   "source": [
    "results = pd.read_csv(\"midwife_backtest_results.csv\", parse_dates=[\"date\"])\n",
    "results.set_index(\"date\", inplace=True)\n",
    "\n",
    "import yfinance as yf\n",
    "price_data = yf.download(\"AAPL\", period=\"6mo\", interval=\"1d\")\n"
   ]
  },
  {
   "cell_type": "code",
   "execution_count": null,
   "id": "976c8500",
   "metadata": {},
   "outputs": [],
   "source": [
    "fig = make_subplots(rows=2, cols=1, shared_xaxes=True, \n",
    "                    vertical_spacing=0.05, \n",
    "                    row_heights=[0.75, 0.25],\n",
    "                    specs=[[{\"type\": \"scatter\"}], [{\"type\": \"bar\"}]])\n"
   ]
  },
  {
   "cell_type": "code",
   "execution_count": null,
   "id": "4d9f1eb7",
   "metadata": {},
   "outputs": [],
   "source": [
    "fig.add_trace(\n",
    "    go.Scatter(x=price_data.index, y=price_data['Close'], \n",
    "               mode=\"lines\", name=\"AAPL Price\", line=dict(color=\"lightblue\")),\n",
    "    row=1, col=1\n",
    ")\n"
   ]
  },
  {
   "cell_type": "code",
   "execution_count": null,
   "id": "48fce29c",
   "metadata": {},
   "outputs": [],
   "source": [
    "score_colors = {1: \"yellow\", 2: \"orange\", 3: \"red\"}\n",
    "\n",
    "for score in [1, 2, 3]:\n",
    "    score_data = results[results['score'] == score]\n",
    "    fig.add_trace(\n",
    "        go.Scatter(\n",
    "            x=score_data.index,\n",
    "            y=score_data[\"entry_price\"],\n",
    "            mode=\"markers\",\n",
    "            name=f\"{score}/3 Signal\",\n",
    "            marker=dict(size=10, color=score_colors[score], symbol=\"diamond\")\n",
    "        ),\n",
    "        row=1, col=1\n",
    "    )\n"
   ]
  },
  {
   "cell_type": "code",
   "execution_count": null,
   "id": "aa23f693",
   "metadata": {},
   "outputs": [],
   "source": [
    "fig.add_trace(\n",
    "    go.Bar(x=results.index, y=results[\"return_3d_pct\"], name=\"3-Day Return %\", marker_color=\"green\"),\n",
    "    row=2, col=1\n",
    ")\n"
   ]
  },
  {
   "cell_type": "code",
   "execution_count": null,
   "id": "46d18243",
   "metadata": {},
   "outputs": [],
   "source": [
    "fig.update_layout(\n",
    "    title=\"Golden Midwife Backtest on AAPL 📈\",\n",
    "    xaxis_title=\"Date\",\n",
    "    yaxis_title=\"Price (USD)\",\n",
    "    height=700,\n",
    "    template=\"plotly_white\",\n",
    "    legend=dict(orientation=\"h\", yanchor=\"bottom\", y=1.02, xanchor=\"right\", x=1)\n",
    ")\n",
    "\n",
    "fig.update_yaxes(title_text=\"AAPL Price\", row=1, col=1)\n",
    "fig.update_yaxes(title_text=\"3-Day Return %\", row=2, col=1)\n",
    "\n",
    "fig.show()\n"
   ]
  }
 ],
 "metadata": {},
 "nbformat": 4,
 "nbformat_minor": 5
}
